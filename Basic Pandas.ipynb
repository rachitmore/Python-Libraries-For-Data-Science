{
 "cells": [
  {
   "cell_type": "code",
   "execution_count": 1,
   "id": "64f8a1a8",
   "metadata": {},
   "outputs": [],
   "source": [
    "# Importing Pandas\n",
    "import pandas as pd"
   ]
  },
  {
   "cell_type": "code",
   "execution_count": 2,
   "id": "ec02fee9",
   "metadata": {},
   "outputs": [
    {
     "name": "stdout",
     "output_type": "stream",
     "text": [
      "      Name  Age         City\n",
      "0    Alice   25     New York\n",
      "1      Bob   30  Los Angeles\n",
      "2  Charlie   35      Chicago\n"
     ]
    }
   ],
   "source": [
    "# Creating DataFrames\n",
    "data = {\n",
    "    'Name': ['Alice', 'Bob', 'Charlie'],\n",
    "    'Age': [25, 30, 35],\n",
    "    'City': ['New York', 'Los Angeles', 'Chicago']\n",
    "}\n",
    "\n",
    "df = pd.DataFrame(data)\n",
    "print(df)\n"
   ]
  },
  {
   "cell_type": "code",
   "execution_count": 3,
   "id": "9247b76c",
   "metadata": {},
   "outputs": [
    {
     "name": "stdout",
     "output_type": "stream",
     "text": [
      "      Name  Age         City\n",
      "0    Alice   25     New York\n",
      "1      Bob   30  Los Angeles\n",
      "2  Charlie   35      Chicago\n",
      "      Name  Age         City\n",
      "0    Alice   25     New York\n",
      "1      Bob   30  Los Angeles\n",
      "2  Charlie   35      Chicago\n",
      "<class 'pandas.core.frame.DataFrame'>\n",
      "RangeIndex: 3 entries, 0 to 2\n",
      "Data columns (total 3 columns):\n",
      " #   Column  Non-Null Count  Dtype \n",
      "---  ------  --------------  ----- \n",
      " 0   Name    3 non-null      object\n",
      " 1   Age     3 non-null      int64 \n",
      " 2   City    3 non-null      object\n",
      "dtypes: int64(1), object(2)\n",
      "memory usage: 204.0+ bytes\n",
      "None\n",
      "        Age\n",
      "count   3.0\n",
      "mean   30.0\n",
      "std     5.0\n",
      "min    25.0\n",
      "25%    27.5\n",
      "50%    30.0\n",
      "75%    32.5\n",
      "max    35.0\n"
     ]
    }
   ],
   "source": [
    "# Viewing Data\n",
    "# Display the first few rows\n",
    "print(df.head())\n",
    "\n",
    "# Display the last few rows\n",
    "print(df.tail())\n",
    "\n",
    "# Display information about the DataFrame\n",
    "print(df.info())\n",
    "\n",
    "# Display basic statistics\n",
    "print(df.describe())\n"
   ]
  },
  {
   "cell_type": "code",
   "execution_count": 4,
   "id": "e6d6be0d",
   "metadata": {},
   "outputs": [
    {
     "name": "stdout",
     "output_type": "stream",
     "text": [
      "0      Alice\n",
      "1        Bob\n",
      "2    Charlie\n",
      "Name: Name, dtype: object\n",
      "      Name  Age\n",
      "0    Alice   25\n",
      "1      Bob   30\n",
      "2  Charlie   35\n"
     ]
    }
   ],
   "source": [
    "# Selecting Data\n",
    "# Select a single column\n",
    "print(df['Name'])\n",
    "\n",
    "# Select multiple columns\n",
    "print(df[['Name', 'Age']])\n"
   ]
  },
  {
   "cell_type": "code",
   "execution_count": 5,
   "id": "a9cd35df",
   "metadata": {},
   "outputs": [
    {
     "name": "stdout",
     "output_type": "stream",
     "text": [
      "Name       Alice\n",
      "Age           25\n",
      "City    New York\n",
      "Name: 0, dtype: object\n",
      "    Name  Age         City\n",
      "0  Alice   25     New York\n",
      "1    Bob   30  Los Angeles\n",
      "Name       Alice\n",
      "Age           25\n",
      "City    New York\n",
      "Name: 0, dtype: object\n"
     ]
    }
   ],
   "source": [
    "# Selecting Rows\n",
    "# Select rows by index\n",
    "print(df.iloc[0])  # First row\n",
    "print(df.iloc[0:2])  # First two rows\n",
    "\n",
    "# Select rows by label\n",
    "print(df.loc[0])  # First row (if the index is the default integer index)\n"
   ]
  },
  {
   "cell_type": "code",
   "execution_count": 6,
   "id": "33b2b1e6",
   "metadata": {},
   "outputs": [
    {
     "name": "stdout",
     "output_type": "stream",
     "text": [
      "      Name  Age     City\n",
      "2  Charlie   35  Chicago\n"
     ]
    }
   ],
   "source": [
    "# Conditional Selection\n",
    "# Rows where Age is greater than 30\n",
    "print(df[df['Age'] > 30])\n"
   ]
  },
  {
   "cell_type": "code",
   "execution_count": 7,
   "id": "85f1186d",
   "metadata": {},
   "outputs": [
    {
     "name": "stdout",
     "output_type": "stream",
     "text": [
      "      Name  Age         City Country\n",
      "0    Alice   25     New York     USA\n",
      "1      Bob   30  Los Angeles     USA\n",
      "2  Charlie   35      Chicago     USA\n"
     ]
    }
   ],
   "source": [
    "# Adding Columns\n",
    "# Adding a new column\n",
    "df['Country'] = ['USA', 'USA', 'USA']\n",
    "print(df)\n"
   ]
  },
  {
   "cell_type": "code",
   "execution_count": 8,
   "id": "e1990a0f",
   "metadata": {},
   "outputs": [
    {
     "name": "stdout",
     "output_type": "stream",
     "text": [
      "      Name  Age         City\n",
      "0    Alice   25     New York\n",
      "1      Bob   30  Los Angeles\n",
      "2  Charlie   35      Chicago\n"
     ]
    }
   ],
   "source": [
    "# Removing Columns\n",
    "# Removing a column\n",
    "df = df.drop('Country', axis=1)\n",
    "print(df)\n"
   ]
  },
  {
   "cell_type": "code",
   "execution_count": 9,
   "id": "bbf0a06b",
   "metadata": {},
   "outputs": [
    {
     "name": "stdout",
     "output_type": "stream",
     "text": [
      "      Name  Age           City\n",
      "0    Alice   25       New York\n",
      "1      Bob   30    Los Angeles\n",
      "2  Charlie   35        Chicago\n",
      "3    David   40  San Francisco\n"
     ]
    }
   ],
   "source": [
    "# New row to add\n",
    "new_row = pd.DataFrame({'Name': ['David'], 'Age': [40], 'City': ['San Francisco']})\n",
    "\n",
    "# Append the new row\n",
    "df = pd.concat([df, new_row], ignore_index=True)\n",
    "print(df)\n"
   ]
  },
  {
   "cell_type": "code",
   "execution_count": 10,
   "id": "abffff08",
   "metadata": {},
   "outputs": [
    {
     "name": "stdout",
     "output_type": "stream",
     "text": [
      "      Name  Age           City\n",
      "1      Bob   30    Los Angeles\n",
      "2  Charlie   35        Chicago\n",
      "3    David   40  San Francisco\n"
     ]
    }
   ],
   "source": [
    "# Removing Rows\n",
    "# Removing a row by index\n",
    "df = df.drop(0)  # Removes the first row\n",
    "print(df)\n"
   ]
  },
  {
   "cell_type": "code",
   "execution_count": 11,
   "id": "7a52fbaa",
   "metadata": {},
   "outputs": [
    {
     "name": "stdout",
     "output_type": "stream",
     "text": [
      "      Name   Age         City\n",
      "0    Alice  25.0     New York\n",
      "1      Bob  30.0  Los Angeles\n",
      "2  Charlie  35.0      Unknown\n",
      "    Name   Age      City\n",
      "0  Alice  25.0  New York\n"
     ]
    }
   ],
   "source": [
    "# Handling Missing Data\n",
    "# Creating a DataFrame with missing values\n",
    "data = {\n",
    "    'Name': ['Alice', 'Bob', 'Charlie'],\n",
    "    'Age': [25, None, 35],\n",
    "    'City': ['New York', 'Los Angeles', None]\n",
    "}\n",
    "df = pd.DataFrame(data)\n",
    "\n",
    "# Filling missing values\n",
    "df_filled = df.fillna({'Age': 30, 'City': 'Unknown'})\n",
    "print(df_filled)\n",
    "\n",
    "# Dropping rows with missing values\n",
    "df_dropped = df.dropna()\n",
    "print(df_dropped)\n"
   ]
  },
  {
   "cell_type": "code",
   "execution_count": 12,
   "id": "7ae0be7b",
   "metadata": {},
   "outputs": [
    {
     "name": "stdout",
     "output_type": "stream",
     "text": [
      "              Age\n",
      "City             \n",
      "Los Angeles   NaN\n",
      "New York     25.0\n",
      "       City   Age                    Name\n",
      "                   mean   min   max count\n",
      "0  New York  25.0  25.0  25.0  25.0     1\n"
     ]
    }
   ],
   "source": [
    "# Group by 'City' and calculate the mean for numeric columns\n",
    "grouped_df = df.groupby('City').mean(numeric_only=True)\n",
    "print(grouped_df)\n",
    "\n",
    "# Grouping by multiple columns and calculating various statistics\n",
    "# Group by 'City' and 'Age' and calculate various statistics\n",
    "agg_df = df.groupby(['City', 'Age']).agg({\n",
    "    'Age': ['mean', 'min', 'max'],\n",
    "    'Name': 'count'\n",
    "}).reset_index()\n",
    "\n",
    "print(agg_df)\n"
   ]
  },
  {
   "cell_type": "code",
   "execution_count": 13,
   "id": "b7443fcf",
   "metadata": {},
   "outputs": [
    {
     "name": "stdout",
     "output_type": "stream",
     "text": [
      "   ID   Name  Age\n",
      "0   1  Alice   25\n",
      "1   2    Bob   30\n",
      "   ID     Name   Age\n",
      "0   1    Alice   NaN\n",
      "1   2      Bob   NaN\n",
      "2   3  Charlie   NaN\n",
      "0   1      NaN  25.0\n",
      "1   2      NaN  30.0\n",
      "2   4      NaN  40.0\n"
     ]
    }
   ],
   "source": [
    "# Merging and Joining DataFrames\n",
    "# Creating two DataFrames\n",
    "df1 = pd.DataFrame({\n",
    "    'ID': [1, 2, 3],\n",
    "    'Name': ['Alice', 'Bob', 'Charlie']\n",
    "})\n",
    "df2 = pd.DataFrame({\n",
    "    'ID': [1, 2, 4],\n",
    "    'Age': [25, 30, 40]\n",
    "})\n",
    "\n",
    "# Merging DataFrames\n",
    "merged_df = pd.merge(df1, df2, on='ID', how='inner')\n",
    "print(merged_df)\n",
    "\n",
    "# Concatenating DataFrames\n",
    "concatenated_df = pd.concat([df1, df2], axis=0)\n",
    "print(concatenated_df)\n"
   ]
  },
  {
   "cell_type": "code",
   "execution_count": 14,
   "id": "40c02c9e",
   "metadata": {},
   "outputs": [
    {
     "name": "stdout",
     "output_type": "stream",
     "text": [
      "            Value\n",
      "Date             \n",
      "2021-01-01      1\n",
      "2021-01-02      2\n",
      "2021-01-03      3\n",
      "2021-01-04      4\n",
      "2021-01-05      5\n",
      "2021-01-06      6\n",
      "            Value\n",
      "Date             \n",
      "2021-01-01      1\n",
      "2021-01-02      2\n",
      "2021-01-03      3\n",
      "2021-01-04      4\n",
      "2021-01-05      5\n",
      "2021-01-06      6\n"
     ]
    }
   ],
   "source": [
    "# Time Series Data\n",
    "# Creating a time series\n",
    "dates = pd.date_range('20210101', periods=6)\n",
    "df_ts = pd.DataFrame({\n",
    "    'Date': dates,\n",
    "    'Value': [1, 2, 3, 4, 5, 6]\n",
    "})\n",
    "df_ts = df_ts.set_index('Date')\n",
    "print(df_ts)\n",
    "\n",
    "# Resampling time series data\n",
    "resampled_df = df_ts.resample('D').sum()\n",
    "print(resampled_df)\n"
   ]
  },
  {
   "cell_type": "code",
   "execution_count": 15,
   "id": "0d87dd5b",
   "metadata": {},
   "outputs": [],
   "source": [
    "# CSV\n",
    "# Writing to a CSV file\n",
    "df.to_csv('data.csv', index=False)\n",
    "\n",
    "# Reading from a CSV file\n",
    "df = pd.read_csv('data.csv')"
   ]
  },
  {
   "cell_type": "code",
   "execution_count": 16,
   "id": "557dcef1",
   "metadata": {},
   "outputs": [],
   "source": [
    "# Excel\n",
    "# Writing to an Excel file\n",
    "df.to_excel('data.xlsx', index=False)\n",
    "\n",
    "# Reading from an Excel file\n",
    "df = pd.read_excel('data.xlsx')"
   ]
  },
  {
   "cell_type": "code",
   "execution_count": null,
   "id": "239973a4",
   "metadata": {},
   "outputs": [],
   "source": []
  },
  {
   "cell_type": "code",
   "execution_count": null,
   "id": "64dfd983",
   "metadata": {},
   "outputs": [],
   "source": []
  },
  {
   "cell_type": "code",
   "execution_count": null,
   "id": "f903c8f9",
   "metadata": {},
   "outputs": [],
   "source": []
  },
  {
   "cell_type": "code",
   "execution_count": null,
   "id": "101af282",
   "metadata": {},
   "outputs": [],
   "source": []
  }
 ],
 "metadata": {
  "kernelspec": {
   "display_name": "Python 3 (ipykernel)",
   "language": "python",
   "name": "python3"
  },
  "language_info": {
   "codemirror_mode": {
    "name": "ipython",
    "version": 3
   },
   "file_extension": ".py",
   "mimetype": "text/x-python",
   "name": "python",
   "nbconvert_exporter": "python",
   "pygments_lexer": "ipython3",
   "version": "3.11.5"
  }
 },
 "nbformat": 4,
 "nbformat_minor": 5
}
