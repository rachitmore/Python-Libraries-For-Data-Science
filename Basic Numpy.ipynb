{
 "cells": [
  {
   "cell_type": "code",
   "execution_count": 1,
   "id": "1069aed5",
   "metadata": {},
   "outputs": [],
   "source": [
    "# importing numpy\n",
    "import numpy as np"
   ]
  },
  {
   "cell_type": "code",
   "execution_count": 2,
   "id": "dc133f74",
   "metadata": {},
   "outputs": [],
   "source": [
    "# Creating Arrays\n",
    "# From a list\n",
    "array_from_list = np.array([1, 2, 3, 4, 5])\n",
    "\n",
    "# Using arange (creates an array with a range of values)\n",
    "array_with_range = np.arange(0, 10, 2)  # Start at 0, end at 10, step by 2\n",
    "\n",
    "# Using linspace (creates an array with a specified number of elements)\n",
    "array_with_linspace = np.linspace(0, 1, 5)  # Start at 0, end at 1, 5 elements\n",
    "\n",
    "# Using zeros, ones, full, and empty\n",
    "array_of_zeros = np.zeros((2, 3))  # 2x3 array of zeros\n",
    "array_of_ones = np.ones((2, 3))    # 2x3 array of ones\n",
    "array_of_full = np.full((2, 3), 7) # 2x3 array of sevens\n",
    "array_of_empty = np.empty((2, 3))  # 2x3 array, uninitialized\n",
    "\n",
    "# Identity matrix\n",
    "identity_matrix = np.eye(3)        # 3x3 identity matrix\n",
    "\n",
    "# Random arrays\n",
    "random_array = np.random.random((2, 3))  # 2x3 array with random floats in [0, 1)\n"
   ]
  },
  {
   "cell_type": "code",
   "execution_count": 3,
   "id": "c5ff4d2a",
   "metadata": {},
   "outputs": [
    {
     "name": "stdout",
     "output_type": "stream",
     "text": [
      "(2, 3)\n",
      "6\n",
      "int32\n",
      "2\n"
     ]
    }
   ],
   "source": [
    "# Array Attributes\n",
    "array = np.array([[1, 2, 3], [4, 5, 6]])\n",
    "\n",
    "print(array.shape)  # (2, 3) - dimensions of the array\n",
    "print(array.size)   # 6 - total number of elements\n",
    "print(array.dtype)  # int64 - data type of elements\n",
    "print(array.ndim)   # 2 - number of dimensions\n"
   ]
  },
  {
   "cell_type": "code",
   "execution_count": 4,
   "id": "bf9b28aa",
   "metadata": {},
   "outputs": [],
   "source": [
    "# Reshaping Arrays\n",
    "reshaped_array = array.reshape((3, 2))  # Reshape to 3 rows, 2 columns"
   ]
  },
  {
   "cell_type": "code",
   "execution_count": 5,
   "id": "730eb551",
   "metadata": {},
   "outputs": [
    {
     "name": "stdout",
     "output_type": "stream",
     "text": [
      "1\n",
      "5\n",
      "[2 3 4]\n",
      "[1 3 5]\n",
      "2\n",
      "[2 5]\n",
      "[4 5 6]\n"
     ]
    }
   ],
   "source": [
    "# Indexing and Slicing\n",
    "\n",
    "array = np.array([1, 2, 3, 4, 5])\n",
    "\n",
    "print(array[0])     # First element\n",
    "print(array[-1])    # Last element\n",
    "print(array[1:4])   # Slice from index 1 to 3\n",
    "print(array[::2])   # Every second element\n",
    "\n",
    "# multidimensional arrays\n",
    "array_2d = np.array([[1, 2, 3], [4, 5, 6]])\n",
    "\n",
    "print(array_2d[0, 1])  # Element at row 0, column 1\n",
    "print(array_2d[:, 1])  # All rows, column 1\n",
    "print(array_2d[1, :])  # Row 1, all columns\n"
   ]
  },
  {
   "cell_type": "code",
   "execution_count": 6,
   "id": "3dc0aeb6",
   "metadata": {},
   "outputs": [
    {
     "name": "stdout",
     "output_type": "stream",
     "text": [
      "[2 3 4 5 6]\n",
      "[ 2  4  6  8 10]\n",
      "[6 6 6 6 6]\n",
      "[5 8 9 8 5]\n"
     ]
    }
   ],
   "source": [
    "# Operations on Arrays\n",
    "array = np.array([1, 2, 3, 4, 5])\n",
    "\n",
    "# Element-wise operations\n",
    "print(array + 1)     # [2, 3, 4, 5, 6]\n",
    "print(array * 2)     # [2, 4, 6, 8, 10]\n",
    "\n",
    "# Element-wise arithmetic with another array\n",
    "array2 = np.array([5, 4, 3, 2, 1])\n",
    "print(array + array2)  # [6, 6, 6, 6, 6]\n",
    "print(array * array2)  # [5, 8, 9, 8, 5]\n",
    "\n",
    "# Matrix multiplication\n",
    "array2d = np.array([[1, 2], [3, 4]])\n",
    "matrix_multiplication = np.dot(array2d, array2d)\n"
   ]
  },
  {
   "cell_type": "code",
   "execution_count": 7,
   "id": "15caacbd",
   "metadata": {},
   "outputs": [
    {
     "name": "stdout",
     "output_type": "stream",
     "text": [
      "15\n",
      "3.0\n",
      "5\n",
      "1\n",
      "1.4142135623730951\n"
     ]
    }
   ],
   "source": [
    "# Aggregate Functions\n",
    "array = np.array([1, 2, 3, 4, 5])\n",
    "\n",
    "print(np.sum(array))     # Sum of elements\n",
    "print(np.mean(array))    # Mean of elements\n",
    "print(np.max(array))     # Maximum element\n",
    "print(np.min(array))     # Minimum element\n",
    "print(np.std(array))     # Standard deviation\n"
   ]
  },
  {
   "cell_type": "code",
   "execution_count": 8,
   "id": "f925c1d8",
   "metadata": {},
   "outputs": [],
   "source": [
    "# Broadcasting\n",
    "array1 = np.array([1, 2, 3])\n",
    "array2 = np.array([[0], [1], [2]])\n",
    "\n",
    "# Broadcast array1 to the shape of array2 and add\n",
    "result = array1 + array2\n",
    "# result: array([[1, 2, 3],\n",
    "#                [2, 3, 4],\n",
    "#                [3, 4, 5]])\n"
   ]
  },
  {
   "cell_type": "code",
   "execution_count": 9,
   "id": "670be82b",
   "metadata": {},
   "outputs": [],
   "source": [
    "# Random Number Generation\n",
    "# Generate random floats in [0, 1)\n",
    "random_floats = np.random.random((2, 3))\n",
    "\n",
    "# Generate random integers\n",
    "random_integers = np.random.randint(1, 10, (2, 3))\n",
    "\n",
    "# Generate random numbers from a normal distribution\n",
    "random_normals = np.random.normal(0, 1, (2, 3))\n",
    "\n",
    "# Set a random seed for reproducibility\n",
    "np.random.seed(42)\n",
    "random_floats_seeded = np.random.random((2, 3))\n"
   ]
  },
  {
   "cell_type": "code",
   "execution_count": 10,
   "id": "d44a44cb",
   "metadata": {},
   "outputs": [],
   "source": [
    "# Saving and Loading\n",
    "# Save to a binary file in .npy format\n",
    "np.save('array.npy', array)\n",
    "\n",
    "# Load from the binary file\n",
    "loaded_array = np.load('array.npy')\n",
    "\n",
    "# Save to a text file in .csv format\n",
    "np.savetxt('array.csv', array, delimiter=',')\n",
    "\n",
    "# Load from a text file\n",
    "loaded_array = np.loadtxt('array.csv', delimiter=',')\n"
   ]
  },
  {
   "cell_type": "code",
   "execution_count": 11,
   "id": "0c09acc0",
   "metadata": {},
   "outputs": [
    {
     "name": "stdout",
     "output_type": "stream",
     "text": [
      "[4 5]\n",
      "[2 4]\n"
     ]
    }
   ],
   "source": [
    "# Boolean Indexing\n",
    "array = np.array([1, 2, 3, 4, 5])\n",
    "\n",
    "# Boolean indexing\n",
    "bool_idx = array > 3\n",
    "print(array[bool_idx])  # [4, 5]\n",
    "\n",
    "# Directly using conditions\n",
    "print(array[array % 2 == 0])  # [2, 4]\n"
   ]
  },
  {
   "cell_type": "code",
   "execution_count": 12,
   "id": "1d80c9f7",
   "metadata": {},
   "outputs": [
    {
     "name": "stdout",
     "output_type": "stream",
     "text": [
      "[20 40 50]\n",
      "[2 4 5]\n"
     ]
    }
   ],
   "source": [
    "# Fancy Indexing\n",
    "array = np.array([10, 20, 30, 40, 50])\n",
    "\n",
    "# Fancy indexing\n",
    "indices = [1, 3, 4]\n",
    "print(array[indices])  # [20, 40, 50]\n",
    "\n",
    "# Fancy indexing with multidimensional arrays\n",
    "array2d = np.array([[1, 2], [3, 4], [5, 6]])\n",
    "rows = np.array([0, 1, 2])\n",
    "cols = np.array([1, 1, 0])\n",
    "print(array2d[rows, cols])  # [2, 4, 5]\n"
   ]
  },
  {
   "cell_type": "code",
   "execution_count": 13,
   "id": "e355ee1a",
   "metadata": {},
   "outputs": [
    {
     "name": "stdout",
     "output_type": "stream",
     "text": [
      "[[-2.   1. ]\n",
      " [ 1.5 -0.5]]\n",
      "[-0.37228132  5.37228132]\n",
      "[[-0.82456484 -0.41597356]\n",
      " [ 0.56576746 -0.90937671]]\n",
      "[-2. 12.]\n",
      "-2.0000000000000004\n"
     ]
    }
   ],
   "source": [
    "# Linear Algebra\n",
    "from numpy.linalg import inv, eig, solve, det\n",
    "\n",
    "# Create a matrix\n",
    "matrix = np.array([[1, 2], [3, 4]])\n",
    "\n",
    "# Inverse of the matrix\n",
    "matrix_inv = inv(matrix)\n",
    "print(matrix_inv)\n",
    "\n",
    "# Eigenvalues and eigenvectors\n",
    "eigenvalues, eigenvectors = eig(matrix)\n",
    "print(eigenvalues)\n",
    "print(eigenvectors)\n",
    "\n",
    "# Solving a system of linear equations\n",
    "# 2x + y = 8\n",
    "# 3x + 2y = 18\n",
    "A = np.array([[2, 1], [3, 2]])\n",
    "B = np.array([8, 18])\n",
    "solutions = solve(A, B)\n",
    "print(solutions)  # [4. 0.]\n",
    "\n",
    "# Determinant of the matrix\n",
    "matrix_det = det(matrix)\n",
    "print(matrix_det)  # -2.0\n"
   ]
  },
  {
   "cell_type": "code",
   "execution_count": 14,
   "id": "c41a111a",
   "metadata": {},
   "outputs": [
    {
     "name": "stdout",
     "output_type": "stream",
     "text": [
      "3.5\n",
      "3.5\n",
      "1.707825127659933\n",
      "2.9166666666666665\n",
      "3.5\n",
      "4.75\n"
     ]
    }
   ],
   "source": [
    "# Statistical Functions\n",
    "array = np.array([1, 2, 3, 4, 5, 6])\n",
    "\n",
    "# Basic statistical functions\n",
    "print(np.mean(array))  # Mean: 3.5\n",
    "print(np.median(array))  # Median: 3.5\n",
    "print(np.std(array))  # Standard deviation: 1.707825127659933\n",
    "print(np.var(array))  # Variance: 2.9166666666666665\n",
    "\n",
    "# Percentiles\n",
    "print(np.percentile(array, 50))  # 50th percentile (median): 3.5\n",
    "print(np.percentile(array, 75))  # 75th percentile: 5.25\n"
   ]
  },
  {
   "cell_type": "code",
   "execution_count": 15,
   "id": "d0d1f787",
   "metadata": {},
   "outputs": [
    {
     "name": "stdout",
     "output_type": "stream",
     "text": [
      "[[1 2]\n",
      " [3 4]]\n",
      "[1 2 3 4]\n",
      "[[[1 3]\n",
      "  [2 4]]]\n"
     ]
    }
   ],
   "source": [
    "# Stacking Arrays\n",
    "array1 = np.array([1, 2])\n",
    "array2 = np.array([3, 4])\n",
    "\n",
    "# Vertical stack\n",
    "vstacked = np.vstack((array1, array2))\n",
    "print(vstacked)\n",
    "# Output:\n",
    "# [[1 2]\n",
    "#  [3 4]]\n",
    "\n",
    "# Horizontal stack\n",
    "hstacked = np.hstack((array1, array2))\n",
    "print(hstacked)\n",
    "# Output: [1 2 3 4]\n",
    "\n",
    "# Depth stack (stack along a third axis)\n",
    "dstacked = np.dstack((array1, array2))\n",
    "print(dstacked)\n",
    "# Output: [[[1 3]\n",
    "#           [2 4]]]\n"
   ]
  },
  {
   "cell_type": "code",
   "execution_count": 16,
   "id": "c21a07eb",
   "metadata": {},
   "outputs": [
    {
     "name": "stdout",
     "output_type": "stream",
     "text": [
      "[array([[1, 2]]), array([[3, 4]]), array([[5, 6]])]\n",
      "[array([[1, 2, 3]]), array([[4, 5, 6]])]\n"
     ]
    }
   ],
   "source": [
    "# Splitting Arrays\n",
    "array = np.array([[1, 2, 3, 4, 5, 6]])\n",
    "\n",
    "# Split into 3 arrays\n",
    "split_array = np.hsplit(array, 3)\n",
    "print(split_array)\n",
    "# Output: [array([[1, 2]]), array([[3, 4]]), array([[5, 6]])]\n",
    "\n",
    "# Vertical split (2D array)\n",
    "array2d = np.array([[1, 2, 3], [4, 5, 6]])\n",
    "vsplit_array = np.vsplit(array2d, 2)\n",
    "print(vsplit_array)\n",
    "# Output: [array([[1, 2, 3]]), array([[4, 5, 6]])]\n"
   ]
  },
  {
   "cell_type": "code",
   "execution_count": 17,
   "id": "ca030ec0",
   "metadata": {},
   "outputs": [
    {
     "name": "stdout",
     "output_type": "stream",
     "text": [
      "[1 2 3 4 5]\n",
      "[[1 2 3]\n",
      " [4 5 6]]\n"
     ]
    }
   ],
   "source": [
    "# Sorting\n",
    "array = np.array([3, 1, 2, 5, 4])\n",
    "\n",
    "# Sort array\n",
    "sorted_array = np.sort(array)\n",
    "print(sorted_array)  # [1, 2, 3, 4, 5]\n",
    "\n",
    "# Sort along an axis (2D array)\n",
    "array2d = np.array([[3, 1, 2], [6, 5, 4]])\n",
    "sorted_array2d = np.sort(array2d, axis=1)\n",
    "print(sorted_array2d)\n",
    "# Output:\n",
    "# [[1 2 3]\n",
    "#  [4 5 6]]\n"
   ]
  },
  {
   "cell_type": "code",
   "execution_count": 18,
   "id": "a152720c",
   "metadata": {},
   "outputs": [
    {
     "name": "stdout",
     "output_type": "stream",
     "text": [
      "(array([2], dtype=int64),)\n",
      "(array([3, 4], dtype=int64),)\n",
      "[0 1 2 3 4]\n"
     ]
    }
   ],
   "source": [
    "# Searching\n",
    "array = np.array([1, 2, 3, 4, 5])\n",
    "\n",
    "# Search for specific value\n",
    "index = np.where(array == 3)\n",
    "print(index)  # (array([2]),)\n",
    "\n",
    "# Search for values greater than 3\n",
    "indices = np.where(array > 3)\n",
    "print(indices)  # (array([3, 4]),)\n",
    "\n",
    "# Find indices of sorted array\n",
    "sorted_indices = np.argsort(array)\n",
    "print(sorted_indices)  # [0 1 2 3 4]\n"
   ]
  },
  {
   "cell_type": "code",
   "execution_count": 19,
   "id": "7db59dc9",
   "metadata": {},
   "outputs": [
    {
     "name": "stdout",
     "output_type": "stream",
     "text": [
      "[0.0000000e+00 1.0000000e+00 1.2246468e-16]\n",
      "[ 1.          4.81047738 23.14069263]\n",
      "[0. 1. 2.]\n"
     ]
    }
   ],
   "source": [
    "# Mathematical Functions\n",
    "array = np.array([0, np.pi/2, np.pi])\n",
    "\n",
    "# Trigonometric functions\n",
    "sin_array = np.sin(array)\n",
    "print(sin_array)  # [0. 1. 0.]\n",
    "\n",
    "# Exponential and logarithmic functions\n",
    "exp_array = np.exp(array)\n",
    "print(exp_array)  # [ 1.          1.64872127 20.08553692]\n",
    "\n",
    "log_array = np.log(np.array([1, np.e, np.e**2]))\n",
    "print(log_array)  # [0. 1. 2.]\n"
   ]
  },
  {
   "cell_type": "code",
   "execution_count": 20,
   "id": "25ce2078",
   "metadata": {},
   "outputs": [
    {
     "name": "stdout",
     "output_type": "stream",
     "text": [
      "[[19 22]\n",
      " [43 50]]\n",
      "U: [[-0.40455358 -0.9145143 ]\n",
      " [-0.9145143   0.40455358]]\n",
      "S: [5.4649857  0.36596619]\n",
      "Vt: [[-0.57604844 -0.81741556]\n",
      " [ 0.81741556 -0.57604844]]\n"
     ]
    }
   ],
   "source": [
    "from numpy.linalg import svd\n",
    "\n",
    "# Matrix Operations\n",
    "matrix1 = np.array([[1, 2], [3, 4]])\n",
    "matrix2 = np.array([[5, 6], [7, 8]])\n",
    "\n",
    "# Matrix multiplication\n",
    "result = np.matmul(matrix1, matrix2)\n",
    "print(result)\n",
    "# Output:\n",
    "# [[19 22]\n",
    "#  [43 50]]\n",
    "\n",
    "# Singular Value Decomposition (SVD)\n",
    "matrix = np.array([[1, 2], [3, 4]])\n",
    "\n",
    "# Perform SVD\n",
    "U, S, Vt = svd(matrix)\n",
    "print(\"U:\", U)\n",
    "print(\"S:\", S)\n",
    "print(\"Vt:\", Vt)\n"
   ]
  },
  {
   "cell_type": "code",
   "execution_count": 21,
   "id": "a9b6e667",
   "metadata": {},
   "outputs": [
    {
     "name": "stdout",
     "output_type": "stream",
     "text": [
      "86.0\n",
      "1.0 + 3.0 x + 4.0 x**2\n"
     ]
    }
   ],
   "source": [
    "# Polynomials\n",
    "from numpy.polynomial import Polynomial\n",
    "\n",
    "# Create a polynomial: p(x) = 1 + 2x + 3x^2\n",
    "p = Polynomial([1, 2, 3])\n",
    "\n",
    "# Evaluate the polynomial at x = 5\n",
    "value = p(5)\n",
    "print(value)  # 86\n",
    "\n",
    "# Polynomial operations\n",
    "p2 = Polynomial([0, 1, 1])\n",
    "sum_polynomial = p + p2\n",
    "print(sum_polynomial)  # Polynomial([1, 3, 4], domain=[-1, 1], window=[-1, 1])\n"
   ]
  },
  {
   "cell_type": "code",
   "execution_count": 22,
   "id": "fb3a55de",
   "metadata": {},
   "outputs": [
    {
     "name": "stdout",
     "output_type": "stream",
     "text": [
      "[0.+0.j 0.-2.j 0.+0.j 0.+2.j]\n",
      "[ 0.+0.j  1.+0.j  0.+0.j -1.+0.j]\n"
     ]
    }
   ],
   "source": [
    "# Fourier Transform\n",
    "from numpy.fft import fft, ifft\n",
    "\n",
    "# Create a sample signal\n",
    "signal = np.array([0, 1, 0, -1])\n",
    "\n",
    "# Compute the Fast Fourier Transform\n",
    "fft_result = fft(signal)\n",
    "print(fft_result)\n",
    "\n",
    "# Compute the Inverse Fast Fourier Transform\n",
    "ifft_result = ifft(fft_result)\n",
    "print(ifft_result)\n"
   ]
  },
  {
   "cell_type": "code",
   "execution_count": 23,
   "id": "808f2ee4",
   "metadata": {},
   "outputs": [
    {
     "name": "stdout",
     "output_type": "stream",
     "text": [
      "[[2 3]\n",
      " [5 6]]\n",
      "[[ 1 99  3]\n",
      " [ 4  5  6]]\n"
     ]
    }
   ],
   "source": [
    "# Memory Layout and Views\n",
    "array = np.array([[1, 2, 3], [4, 5, 6]])\n",
    "\n",
    "# Create a view of the original array\n",
    "view = array[:, 1:3]\n",
    "print(view)\n",
    "# Output:\n",
    "# [[2 3]\n",
    "#  [5 6]]\n",
    "\n",
    "# Modify the view\n",
    "view[0, 0] = 99\n",
    "print(array)\n",
    "# Output:\n",
    "# [[ 1 99  3]\n",
    "#  [ 4  5  6]]\n"
   ]
  },
  {
   "cell_type": "code",
   "execution_count": 24,
   "id": "76f894f3",
   "metadata": {},
   "outputs": [
    {
     "name": "stdout",
     "output_type": "stream",
     "text": [
      "[1 2 3 4 5 6]\n",
      "[1 2 3 4 5 6]\n"
     ]
    }
   ],
   "source": [
    "# Flattening and Raveling\n",
    "array2d = np.array([[1, 2, 3], [4, 5, 6]])\n",
    "\n",
    "# Flatten the array\n",
    "flattened_array = array2d.flatten()\n",
    "print(flattened_array)\n",
    "\n",
    "# Ravel the array (returns a flattened array view)\n",
    "raveled_array = array2d.ravel()\n",
    "print(raveled_array)\n"
   ]
  },
  {
   "cell_type": "code",
   "execution_count": 25,
   "id": "84f0eb0e",
   "metadata": {},
   "outputs": [
    {
     "name": "stdout",
     "output_type": "stream",
     "text": [
      "[False  True False  True False  True]\n",
      "[2 4 6]\n"
     ]
    }
   ],
   "source": [
    "#  Creating and Using Masks\n",
    "array = np.array([1, 2, 3, 4, 5, 6])\n",
    "\n",
    "# Masking with a condition\n",
    "mask = (array % 2 == 0)\n",
    "print(mask)  # [False  True False  True False  True]\n",
    "\n",
    "# Use mask to filter the array\n",
    "filtered_array = array[mask]\n",
    "print(filtered_array)  # [2 4 6]\n"
   ]
  },
  {
   "cell_type": "code",
   "execution_count": 26,
   "id": "0c911a6f",
   "metadata": {},
   "outputs": [
    {
     "name": "stdout",
     "output_type": "stream",
     "text": [
      "[False False  True  True  True]\n",
      "[30 40 50]\n"
     ]
    }
   ],
   "source": [
    "# Masking\n",
    "array = np.array([10, 20, 30, 40, 50])\n",
    "\n",
    "# Create a mask for elements greater than 25\n",
    "mask = array > 25\n",
    "print(mask)  # [False False  True  True  True]\n",
    "\n",
    "# Apply the mask to filter the array\n",
    "filtered_array = array[mask]\n",
    "print(filtered_array)  # [30 40 50]\n"
   ]
  }
 ],
 "metadata": {
  "kernelspec": {
   "display_name": "Python 3 (ipykernel)",
   "language": "python",
   "name": "python3"
  },
  "language_info": {
   "codemirror_mode": {
    "name": "ipython",
    "version": 3
   },
   "file_extension": ".py",
   "mimetype": "text/x-python",
   "name": "python",
   "nbconvert_exporter": "python",
   "pygments_lexer": "ipython3",
   "version": "3.11.5"
  }
 },
 "nbformat": 4,
 "nbformat_minor": 5
}
